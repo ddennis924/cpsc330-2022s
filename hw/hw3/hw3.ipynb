{
 "cells": [
  {
   "cell_type": "markdown",
   "metadata": {},
   "source": [
    "# CPSC 330 - Applied Machine Learning \n",
    "\n",
    "## Homework 3: Preprocessing \n",
    "### Associated lectures: Lectures 4, 5, 6 \n",
    "\n",
    "**Due date: Saturday, May 28, 2022 at 18:00**"
   ]
  },
  {
   "cell_type": "markdown",
   "metadata": {},
   "source": [
    "## Table of Contents\n",
    "\n",
    "- [Instructions](#si)\n",
    "- [Introduction](#in)\n",
    "- [Exercise 1: Introducing the dataset](#1)\n",
    "- [Exercise 2: Exploratory data analysis (EDA)](#2)\n",
    "- [Exercise 3: Preprocessing](#3)\n",
    "- [Exercise 4: Building models](#4)\n",
    "- [Exercise 5: Evaluating on the test set](#5)"
   ]
  },
  {
   "cell_type": "markdown",
   "metadata": {},
   "source": [
    "## Imports "
   ]
  },
  {
   "cell_type": "code",
   "execution_count": 96,
   "metadata": {},
   "outputs": [],
   "source": [
    "import matplotlib.pyplot as plt\n",
    "import numpy as np\n",
    "import pandas as pd\n",
    "from sklearn.compose import ColumnTransformer, make_column_transformer\n",
    "from sklearn.dummy import DummyClassifier\n",
    "from sklearn.impute import SimpleImputer\n",
    "from sklearn.model_selection import cross_val_score, cross_validate, train_test_split\n",
    "from sklearn.neighbors import KNeighborsClassifier\n",
    "from sklearn.pipeline import Pipeline, make_pipeline\n",
    "from sklearn.preprocessing import OneHotEncoder, StandardScaler, OrdinalEncoder\n",
    "from sklearn.svm import SVC\n",
    "from sklearn.tree import DecisionTreeClassifier"
   ]
  },
  {
   "cell_type": "markdown",
   "metadata": {},
   "source": [
    "## Instructions <a name=\"si\"></a>\n",
    "<hr>\n",
    "rubric={points:6}\n",
    "\n",
    "Follow the [homework submission instructions](https://github.com/UBC-CS/cpsc330-2022s/blob/master/docs/homework_instructions.md).\n",
    "\n",
    "**You may work with a partner on this homework and submit your assignment as a group.** Below are some instructions on working as a group.  \n",
    "- The maximum group size is 2. \n",
    "- Use group work as an opportunity to collaborate and learn new things from each other. \n",
    "- Be respectful to each other and make sure you understand all the concepts in the assignment well. \n",
    "- It's your responsibility to make sure that the assignment is submitted by one of the group members before the deadline. \n",
    "- You can find the instructions on how to do group submission on Gradescope [here](https://help.gradescope.com/article/m5qz2xsnjy-student-add-group-members).\n",
    "\n",
    "_Note: The assignments will get gradually more open-ended as we progress through the course. In many cases, there won't be a single correct solution. Sometimes you will have to make your own choices and your own decisions (for example, on what parameter values to use when they are not explicitly provided in the instructions). Use your own judgment in such cases and justify your choices, if necessary._"
   ]
  },
  {
   "cell_type": "markdown",
   "metadata": {
    "nbgrader": {
     "grade": false,
     "grade_id": "cell-3247a4b883a670c7",
     "locked": true,
     "schema_version": 3,
     "solution": false,
     "task": false
    }
   },
   "source": [
    "## Introduction <a name=\"in\"></a>\n",
    "<hr>\n",
    "\n",
    "A crucial step when using machine learning algorithms on real-world datasets is preprocessing. This homework will give you some practice of data preprocessing and building a supervised machine learning pipeline on a real-world dataset. "
   ]
  },
  {
   "cell_type": "markdown",
   "metadata": {},
   "source": [
    "<br><br>"
   ]
  },
  {
   "cell_type": "markdown",
   "metadata": {},
   "source": [
    "## Exercise 1: Introducing the dataset <a name=\"1\"></a>\n",
    "<hr>\n",
    "\n",
    "In this lab, you will be working on [the adult census dataset](https://www.kaggle.com/uciml/adult-census-income#). Download the CSV and save it as `adult.csv` locally in this homework folder. \n",
    "\n",
    "This is a classification dataset and the classification task is to predict whether income exceeds 50K per year or not based on the census data. You can find more information on the dataset and features [here](http://archive.ics.uci.edu/ml/datasets/Adult).\n",
    "\n",
    "The starter code below loads the data CSV (assuming that it is saved as `adult.csv` in this folder). \n",
    "\n",
    "_Note that many popular datasets have sex as a feature where the possible values are male and female. This representation reflects how the data were collected and is not meant to imply that, for example, gender is binary._"
   ]
  },
  {
   "cell_type": "code",
   "execution_count": 101,
   "metadata": {
    "slideshow": {
     "slide_type": "slide"
    }
   },
   "outputs": [
    {
     "data": {
      "text/plain": [
       "(32561, 15)"
      ]
     },
     "execution_count": 101,
     "metadata": {},
     "output_type": "execute_result"
    }
   ],
   "source": [
    "census_df = pd.read_csv(\"adult.csv\")\n",
    "census_df.shape"
   ]
  },
  {
   "cell_type": "markdown",
   "metadata": {},
   "source": [
    "<br><br>"
   ]
  },
  {
   "cell_type": "markdown",
   "metadata": {},
   "source": [
    "### 1.1 Data splitting \n",
    "rubric={points:4}\n",
    "\n",
    "In order to avoid violation of the golden rule, the first step before we do anything is splitting the data. \n",
    "\n",
    "**Your tasks:**\n",
    "\n",
    "1. Split the data into `train_df` (50%) and `test_df` (50%) with `random_state = 10`. Keep the target column (`income`) in the splits so that we can use it in the exploratory data analysis.\n",
    "\n",
    "_Usually having more data for training is a good idea. But here I'm using 50%/50% split because this is kind of a big dataset for a modest laptop. A smaller training data means it won't take too long to train the model on your laptop. A side advantage of this would be that with a bigger test split, we'll have a more reliable estimate of the deployment performance!_"
   ]
  },
  {
   "cell_type": "code",
   "execution_count": 102,
   "metadata": {
    "slideshow": {
     "slide_type": "slide"
    }
   },
   "outputs": [],
   "source": [
    "train_df, test_df = train_test_split(census_df, test_size=0.5, random_state=10)"
   ]
  },
  {
   "cell_type": "markdown",
   "metadata": {},
   "source": [
    "<br><br>"
   ]
  },
  {
   "cell_type": "markdown",
   "metadata": {
    "slideshow": {
     "slide_type": "slide"
    }
   },
   "source": [
    "## Exercise 2: Exploratory data analysis (EDA) <a name=\"2\"></a> \n",
    "<hr>"
   ]
  },
  {
   "cell_type": "markdown",
   "metadata": {},
   "source": [
    "Let's examine our `train_df`. "
   ]
  },
  {
   "cell_type": "code",
   "execution_count": null,
   "metadata": {},
   "outputs": [
    {
     "data": {
      "text/html": [
       "<div>\n",
       "<style scoped>\n",
       "    .dataframe tbody tr th:only-of-type {\n",
       "        vertical-align: middle;\n",
       "    }\n",
       "\n",
       "    .dataframe tbody tr th {\n",
       "        vertical-align: top;\n",
       "    }\n",
       "\n",
       "    .dataframe thead th {\n",
       "        text-align: right;\n",
       "    }\n",
       "</style>\n",
       "<table border=\"1\" class=\"dataframe\">\n",
       "  <thead>\n",
       "    <tr style=\"text-align: right;\">\n",
       "      <th></th>\n",
       "      <th>age</th>\n",
       "      <th>workclass</th>\n",
       "      <th>fnlwgt</th>\n",
       "      <th>education</th>\n",
       "      <th>education.num</th>\n",
       "      <th>marital.status</th>\n",
       "      <th>occupation</th>\n",
       "      <th>relationship</th>\n",
       "      <th>race</th>\n",
       "      <th>sex</th>\n",
       "      <th>capital.gain</th>\n",
       "      <th>capital.loss</th>\n",
       "      <th>hours.per.week</th>\n",
       "      <th>native.country</th>\n",
       "      <th>income</th>\n",
       "    </tr>\n",
       "  </thead>\n",
       "  <tbody>\n",
       "    <tr>\n",
       "      <th>1</th>\n",
       "      <td>82</td>\n",
       "      <td>Private</td>\n",
       "      <td>132870</td>\n",
       "      <td>HS-grad</td>\n",
       "      <td>9</td>\n",
       "      <td>Widowed</td>\n",
       "      <td>Exec-managerial</td>\n",
       "      <td>Not-in-family</td>\n",
       "      <td>White</td>\n",
       "      <td>Female</td>\n",
       "      <td>0</td>\n",
       "      <td>4356</td>\n",
       "      <td>18</td>\n",
       "      <td>United-States</td>\n",
       "      <td>&lt;=50K</td>\n",
       "    </tr>\n",
       "    <tr>\n",
       "      <th>2</th>\n",
       "      <td>66</td>\n",
       "      <td>?</td>\n",
       "      <td>186061</td>\n",
       "      <td>Some-college</td>\n",
       "      <td>10</td>\n",
       "      <td>Widowed</td>\n",
       "      <td>?</td>\n",
       "      <td>Unmarried</td>\n",
       "      <td>Black</td>\n",
       "      <td>Female</td>\n",
       "      <td>0</td>\n",
       "      <td>4356</td>\n",
       "      <td>40</td>\n",
       "      <td>United-States</td>\n",
       "      <td>&lt;=50K</td>\n",
       "    </tr>\n",
       "    <tr>\n",
       "      <th>3</th>\n",
       "      <td>54</td>\n",
       "      <td>Private</td>\n",
       "      <td>140359</td>\n",
       "      <td>7th-8th</td>\n",
       "      <td>4</td>\n",
       "      <td>Divorced</td>\n",
       "      <td>Machine-op-inspct</td>\n",
       "      <td>Unmarried</td>\n",
       "      <td>White</td>\n",
       "      <td>Female</td>\n",
       "      <td>0</td>\n",
       "      <td>3900</td>\n",
       "      <td>40</td>\n",
       "      <td>United-States</td>\n",
       "      <td>&lt;=50K</td>\n",
       "    </tr>\n",
       "    <tr>\n",
       "      <th>4</th>\n",
       "      <td>41</td>\n",
       "      <td>Private</td>\n",
       "      <td>264663</td>\n",
       "      <td>Some-college</td>\n",
       "      <td>10</td>\n",
       "      <td>Separated</td>\n",
       "      <td>Prof-specialty</td>\n",
       "      <td>Own-child</td>\n",
       "      <td>White</td>\n",
       "      <td>Female</td>\n",
       "      <td>0</td>\n",
       "      <td>3900</td>\n",
       "      <td>40</td>\n",
       "      <td>United-States</td>\n",
       "      <td>&lt;=50K</td>\n",
       "    </tr>\n",
       "    <tr>\n",
       "      <th>6</th>\n",
       "      <td>38</td>\n",
       "      <td>Private</td>\n",
       "      <td>150601</td>\n",
       "      <td>10th</td>\n",
       "      <td>6</td>\n",
       "      <td>Separated</td>\n",
       "      <td>Adm-clerical</td>\n",
       "      <td>Unmarried</td>\n",
       "      <td>White</td>\n",
       "      <td>Male</td>\n",
       "      <td>0</td>\n",
       "      <td>3770</td>\n",
       "      <td>40</td>\n",
       "      <td>United-States</td>\n",
       "      <td>&lt;=50K</td>\n",
       "    </tr>\n",
       "    <tr>\n",
       "      <th>...</th>\n",
       "      <td>...</td>\n",
       "      <td>...</td>\n",
       "      <td>...</td>\n",
       "      <td>...</td>\n",
       "      <td>...</td>\n",
       "      <td>...</td>\n",
       "      <td>...</td>\n",
       "      <td>...</td>\n",
       "      <td>...</td>\n",
       "      <td>...</td>\n",
       "      <td>...</td>\n",
       "      <td>...</td>\n",
       "      <td>...</td>\n",
       "      <td>...</td>\n",
       "      <td>...</td>\n",
       "    </tr>\n",
       "    <tr>\n",
       "      <th>32544</th>\n",
       "      <td>72</td>\n",
       "      <td>?</td>\n",
       "      <td>129912</td>\n",
       "      <td>HS-grad</td>\n",
       "      <td>9</td>\n",
       "      <td>Married-civ-spouse</td>\n",
       "      <td>?</td>\n",
       "      <td>Husband</td>\n",
       "      <td>White</td>\n",
       "      <td>Male</td>\n",
       "      <td>0</td>\n",
       "      <td>0</td>\n",
       "      <td>25</td>\n",
       "      <td>United-States</td>\n",
       "      <td>&lt;=50K</td>\n",
       "    </tr>\n",
       "    <tr>\n",
       "      <th>32545</th>\n",
       "      <td>45</td>\n",
       "      <td>Local-gov</td>\n",
       "      <td>119199</td>\n",
       "      <td>Assoc-acdm</td>\n",
       "      <td>12</td>\n",
       "      <td>Divorced</td>\n",
       "      <td>Prof-specialty</td>\n",
       "      <td>Unmarried</td>\n",
       "      <td>White</td>\n",
       "      <td>Female</td>\n",
       "      <td>0</td>\n",
       "      <td>0</td>\n",
       "      <td>48</td>\n",
       "      <td>United-States</td>\n",
       "      <td>&lt;=50K</td>\n",
       "    </tr>\n",
       "    <tr>\n",
       "      <th>32547</th>\n",
       "      <td>39</td>\n",
       "      <td>Local-gov</td>\n",
       "      <td>111499</td>\n",
       "      <td>Assoc-acdm</td>\n",
       "      <td>12</td>\n",
       "      <td>Married-civ-spouse</td>\n",
       "      <td>Adm-clerical</td>\n",
       "      <td>Wife</td>\n",
       "      <td>White</td>\n",
       "      <td>Female</td>\n",
       "      <td>0</td>\n",
       "      <td>0</td>\n",
       "      <td>20</td>\n",
       "      <td>United-States</td>\n",
       "      <td>&gt;50K</td>\n",
       "    </tr>\n",
       "    <tr>\n",
       "      <th>32551</th>\n",
       "      <td>43</td>\n",
       "      <td>Self-emp-not-inc</td>\n",
       "      <td>27242</td>\n",
       "      <td>Some-college</td>\n",
       "      <td>10</td>\n",
       "      <td>Married-civ-spouse</td>\n",
       "      <td>Craft-repair</td>\n",
       "      <td>Husband</td>\n",
       "      <td>White</td>\n",
       "      <td>Male</td>\n",
       "      <td>0</td>\n",
       "      <td>0</td>\n",
       "      <td>50</td>\n",
       "      <td>United-States</td>\n",
       "      <td>&lt;=50K</td>\n",
       "    </tr>\n",
       "    <tr>\n",
       "      <th>32554</th>\n",
       "      <td>32</td>\n",
       "      <td>Private</td>\n",
       "      <td>116138</td>\n",
       "      <td>Masters</td>\n",
       "      <td>14</td>\n",
       "      <td>Never-married</td>\n",
       "      <td>Tech-support</td>\n",
       "      <td>Not-in-family</td>\n",
       "      <td>Asian-Pac-Islander</td>\n",
       "      <td>Male</td>\n",
       "      <td>0</td>\n",
       "      <td>0</td>\n",
       "      <td>11</td>\n",
       "      <td>Taiwan</td>\n",
       "      <td>&lt;=50K</td>\n",
       "    </tr>\n",
       "  </tbody>\n",
       "</table>\n",
       "<p>16280 rows × 15 columns</p>\n",
       "</div>"
      ],
      "text/plain": [
       "       age         workclass  fnlwgt     education  education.num  \\\n",
       "1       82           Private  132870       HS-grad              9   \n",
       "2       66                 ?  186061  Some-college             10   \n",
       "3       54           Private  140359       7th-8th              4   \n",
       "4       41           Private  264663  Some-college             10   \n",
       "6       38           Private  150601          10th              6   \n",
       "...    ...               ...     ...           ...            ...   \n",
       "32544   72                 ?  129912       HS-grad              9   \n",
       "32545   45         Local-gov  119199    Assoc-acdm             12   \n",
       "32547   39         Local-gov  111499    Assoc-acdm             12   \n",
       "32551   43  Self-emp-not-inc   27242  Some-college             10   \n",
       "32554   32           Private  116138       Masters             14   \n",
       "\n",
       "           marital.status         occupation   relationship  \\\n",
       "1                 Widowed    Exec-managerial  Not-in-family   \n",
       "2                 Widowed                  ?      Unmarried   \n",
       "3                Divorced  Machine-op-inspct      Unmarried   \n",
       "4               Separated     Prof-specialty      Own-child   \n",
       "6               Separated       Adm-clerical      Unmarried   \n",
       "...                   ...                ...            ...   \n",
       "32544  Married-civ-spouse                  ?        Husband   \n",
       "32545            Divorced     Prof-specialty      Unmarried   \n",
       "32547  Married-civ-spouse       Adm-clerical           Wife   \n",
       "32551  Married-civ-spouse       Craft-repair        Husband   \n",
       "32554       Never-married       Tech-support  Not-in-family   \n",
       "\n",
       "                     race     sex  capital.gain  capital.loss  hours.per.week  \\\n",
       "1                   White  Female             0          4356              18   \n",
       "2                   Black  Female             0          4356              40   \n",
       "3                   White  Female             0          3900              40   \n",
       "4                   White  Female             0          3900              40   \n",
       "6                   White    Male             0          3770              40   \n",
       "...                   ...     ...           ...           ...             ...   \n",
       "32544               White    Male             0             0              25   \n",
       "32545               White  Female             0             0              48   \n",
       "32547               White  Female             0             0              20   \n",
       "32551               White    Male             0             0              50   \n",
       "32554  Asian-Pac-Islander    Male             0             0              11   \n",
       "\n",
       "      native.country income  \n",
       "1      United-States  <=50K  \n",
       "2      United-States  <=50K  \n",
       "3      United-States  <=50K  \n",
       "4      United-States  <=50K  \n",
       "6      United-States  <=50K  \n",
       "...              ...    ...  \n",
       "32544  United-States  <=50K  \n",
       "32545  United-States  <=50K  \n",
       "32547  United-States   >50K  \n",
       "32551  United-States  <=50K  \n",
       "32554         Taiwan  <=50K  \n",
       "\n",
       "[16280 rows x 15 columns]"
      ]
     },
     "execution_count": 6,
     "metadata": {},
     "output_type": "execute_result"
    }
   ],
   "source": [
    "train_df.sort_index()"
   ]
  },
  {
   "cell_type": "markdown",
   "metadata": {},
   "source": [
    "We see some missing values represented with a \"?\". Probably these were the questions not answered by some people during the census.  Usually `.describe()` or `.info()` methods would give you information on missing values. But here, they won't pick \"?\" as missing values as they are encoded as strings instead of an actual NaN in Python. So let's replace them with `np.nan` before we carry out EDA. If you do not do it, you'll encounter an error later on when you try to pass this data to a classifier. "
   ]
  },
  {
   "cell_type": "code",
   "execution_count": 98,
   "metadata": {},
   "outputs": [
    {
     "data": {
      "text/plain": [
       "(16280, 15)"
      ]
     },
     "execution_count": 98,
     "metadata": {},
     "output_type": "execute_result"
    }
   ],
   "source": [
    "train_df_nan = train_df.replace(\"?\", np.nan)\n",
    "test_df_nan = test_df.replace(\"?\", np.nan)\n",
    "train_df_nan.shape"
   ]
  },
  {
   "cell_type": "code",
   "execution_count": 99,
   "metadata": {},
   "outputs": [
    {
     "data": {
      "text/html": [
       "<div>\n",
       "<style scoped>\n",
       "    .dataframe tbody tr th:only-of-type {\n",
       "        vertical-align: middle;\n",
       "    }\n",
       "\n",
       "    .dataframe tbody tr th {\n",
       "        vertical-align: top;\n",
       "    }\n",
       "\n",
       "    .dataframe thead th {\n",
       "        text-align: right;\n",
       "    }\n",
       "</style>\n",
       "<table border=\"1\" class=\"dataframe\">\n",
       "  <thead>\n",
       "    <tr style=\"text-align: right;\">\n",
       "      <th></th>\n",
       "      <th>age</th>\n",
       "      <th>workclass</th>\n",
       "      <th>fnlwgt</th>\n",
       "      <th>education</th>\n",
       "      <th>education.num</th>\n",
       "      <th>marital.status</th>\n",
       "      <th>occupation</th>\n",
       "      <th>relationship</th>\n",
       "      <th>race</th>\n",
       "      <th>sex</th>\n",
       "      <th>capital.gain</th>\n",
       "      <th>capital.loss</th>\n",
       "      <th>hours.per.week</th>\n",
       "      <th>native.country</th>\n",
       "      <th>income</th>\n",
       "    </tr>\n",
       "  </thead>\n",
       "  <tbody>\n",
       "    <tr>\n",
       "      <th>1</th>\n",
       "      <td>82</td>\n",
       "      <td>Private</td>\n",
       "      <td>132870</td>\n",
       "      <td>HS-grad</td>\n",
       "      <td>9</td>\n",
       "      <td>Widowed</td>\n",
       "      <td>Exec-managerial</td>\n",
       "      <td>Not-in-family</td>\n",
       "      <td>White</td>\n",
       "      <td>Female</td>\n",
       "      <td>0</td>\n",
       "      <td>4356</td>\n",
       "      <td>18</td>\n",
       "      <td>United-States</td>\n",
       "      <td>&lt;=50K</td>\n",
       "    </tr>\n",
       "    <tr>\n",
       "      <th>2</th>\n",
       "      <td>66</td>\n",
       "      <td>NaN</td>\n",
       "      <td>186061</td>\n",
       "      <td>Some-college</td>\n",
       "      <td>10</td>\n",
       "      <td>Widowed</td>\n",
       "      <td>NaN</td>\n",
       "      <td>Unmarried</td>\n",
       "      <td>Black</td>\n",
       "      <td>Female</td>\n",
       "      <td>0</td>\n",
       "      <td>4356</td>\n",
       "      <td>40</td>\n",
       "      <td>United-States</td>\n",
       "      <td>&lt;=50K</td>\n",
       "    </tr>\n",
       "    <tr>\n",
       "      <th>3</th>\n",
       "      <td>54</td>\n",
       "      <td>Private</td>\n",
       "      <td>140359</td>\n",
       "      <td>7th-8th</td>\n",
       "      <td>4</td>\n",
       "      <td>Divorced</td>\n",
       "      <td>Machine-op-inspct</td>\n",
       "      <td>Unmarried</td>\n",
       "      <td>White</td>\n",
       "      <td>Female</td>\n",
       "      <td>0</td>\n",
       "      <td>3900</td>\n",
       "      <td>40</td>\n",
       "      <td>United-States</td>\n",
       "      <td>&lt;=50K</td>\n",
       "    </tr>\n",
       "    <tr>\n",
       "      <th>4</th>\n",
       "      <td>41</td>\n",
       "      <td>Private</td>\n",
       "      <td>264663</td>\n",
       "      <td>Some-college</td>\n",
       "      <td>10</td>\n",
       "      <td>Separated</td>\n",
       "      <td>Prof-specialty</td>\n",
       "      <td>Own-child</td>\n",
       "      <td>White</td>\n",
       "      <td>Female</td>\n",
       "      <td>0</td>\n",
       "      <td>3900</td>\n",
       "      <td>40</td>\n",
       "      <td>United-States</td>\n",
       "      <td>&lt;=50K</td>\n",
       "    </tr>\n",
       "    <tr>\n",
       "      <th>6</th>\n",
       "      <td>38</td>\n",
       "      <td>Private</td>\n",
       "      <td>150601</td>\n",
       "      <td>10th</td>\n",
       "      <td>6</td>\n",
       "      <td>Separated</td>\n",
       "      <td>Adm-clerical</td>\n",
       "      <td>Unmarried</td>\n",
       "      <td>White</td>\n",
       "      <td>Male</td>\n",
       "      <td>0</td>\n",
       "      <td>3770</td>\n",
       "      <td>40</td>\n",
       "      <td>United-States</td>\n",
       "      <td>&lt;=50K</td>\n",
       "    </tr>\n",
       "    <tr>\n",
       "      <th>...</th>\n",
       "      <td>...</td>\n",
       "      <td>...</td>\n",
       "      <td>...</td>\n",
       "      <td>...</td>\n",
       "      <td>...</td>\n",
       "      <td>...</td>\n",
       "      <td>...</td>\n",
       "      <td>...</td>\n",
       "      <td>...</td>\n",
       "      <td>...</td>\n",
       "      <td>...</td>\n",
       "      <td>...</td>\n",
       "      <td>...</td>\n",
       "      <td>...</td>\n",
       "      <td>...</td>\n",
       "    </tr>\n",
       "    <tr>\n",
       "      <th>32544</th>\n",
       "      <td>72</td>\n",
       "      <td>NaN</td>\n",
       "      <td>129912</td>\n",
       "      <td>HS-grad</td>\n",
       "      <td>9</td>\n",
       "      <td>Married-civ-spouse</td>\n",
       "      <td>NaN</td>\n",
       "      <td>Husband</td>\n",
       "      <td>White</td>\n",
       "      <td>Male</td>\n",
       "      <td>0</td>\n",
       "      <td>0</td>\n",
       "      <td>25</td>\n",
       "      <td>United-States</td>\n",
       "      <td>&lt;=50K</td>\n",
       "    </tr>\n",
       "    <tr>\n",
       "      <th>32545</th>\n",
       "      <td>45</td>\n",
       "      <td>Local-gov</td>\n",
       "      <td>119199</td>\n",
       "      <td>Assoc-acdm</td>\n",
       "      <td>12</td>\n",
       "      <td>Divorced</td>\n",
       "      <td>Prof-specialty</td>\n",
       "      <td>Unmarried</td>\n",
       "      <td>White</td>\n",
       "      <td>Female</td>\n",
       "      <td>0</td>\n",
       "      <td>0</td>\n",
       "      <td>48</td>\n",
       "      <td>United-States</td>\n",
       "      <td>&lt;=50K</td>\n",
       "    </tr>\n",
       "    <tr>\n",
       "      <th>32547</th>\n",
       "      <td>39</td>\n",
       "      <td>Local-gov</td>\n",
       "      <td>111499</td>\n",
       "      <td>Assoc-acdm</td>\n",
       "      <td>12</td>\n",
       "      <td>Married-civ-spouse</td>\n",
       "      <td>Adm-clerical</td>\n",
       "      <td>Wife</td>\n",
       "      <td>White</td>\n",
       "      <td>Female</td>\n",
       "      <td>0</td>\n",
       "      <td>0</td>\n",
       "      <td>20</td>\n",
       "      <td>United-States</td>\n",
       "      <td>&gt;50K</td>\n",
       "    </tr>\n",
       "    <tr>\n",
       "      <th>32551</th>\n",
       "      <td>43</td>\n",
       "      <td>Self-emp-not-inc</td>\n",
       "      <td>27242</td>\n",
       "      <td>Some-college</td>\n",
       "      <td>10</td>\n",
       "      <td>Married-civ-spouse</td>\n",
       "      <td>Craft-repair</td>\n",
       "      <td>Husband</td>\n",
       "      <td>White</td>\n",
       "      <td>Male</td>\n",
       "      <td>0</td>\n",
       "      <td>0</td>\n",
       "      <td>50</td>\n",
       "      <td>United-States</td>\n",
       "      <td>&lt;=50K</td>\n",
       "    </tr>\n",
       "    <tr>\n",
       "      <th>32554</th>\n",
       "      <td>32</td>\n",
       "      <td>Private</td>\n",
       "      <td>116138</td>\n",
       "      <td>Masters</td>\n",
       "      <td>14</td>\n",
       "      <td>Never-married</td>\n",
       "      <td>Tech-support</td>\n",
       "      <td>Not-in-family</td>\n",
       "      <td>Asian-Pac-Islander</td>\n",
       "      <td>Male</td>\n",
       "      <td>0</td>\n",
       "      <td>0</td>\n",
       "      <td>11</td>\n",
       "      <td>Taiwan</td>\n",
       "      <td>&lt;=50K</td>\n",
       "    </tr>\n",
       "  </tbody>\n",
       "</table>\n",
       "<p>16280 rows × 15 columns</p>\n",
       "</div>"
      ],
      "text/plain": [
       "       age         workclass  fnlwgt     education  education.num  \\\n",
       "1       82           Private  132870       HS-grad              9   \n",
       "2       66               NaN  186061  Some-college             10   \n",
       "3       54           Private  140359       7th-8th              4   \n",
       "4       41           Private  264663  Some-college             10   \n",
       "6       38           Private  150601          10th              6   \n",
       "...    ...               ...     ...           ...            ...   \n",
       "32544   72               NaN  129912       HS-grad              9   \n",
       "32545   45         Local-gov  119199    Assoc-acdm             12   \n",
       "32547   39         Local-gov  111499    Assoc-acdm             12   \n",
       "32551   43  Self-emp-not-inc   27242  Some-college             10   \n",
       "32554   32           Private  116138       Masters             14   \n",
       "\n",
       "           marital.status         occupation   relationship  \\\n",
       "1                 Widowed    Exec-managerial  Not-in-family   \n",
       "2                 Widowed                NaN      Unmarried   \n",
       "3                Divorced  Machine-op-inspct      Unmarried   \n",
       "4               Separated     Prof-specialty      Own-child   \n",
       "6               Separated       Adm-clerical      Unmarried   \n",
       "...                   ...                ...            ...   \n",
       "32544  Married-civ-spouse                NaN        Husband   \n",
       "32545            Divorced     Prof-specialty      Unmarried   \n",
       "32547  Married-civ-spouse       Adm-clerical           Wife   \n",
       "32551  Married-civ-spouse       Craft-repair        Husband   \n",
       "32554       Never-married       Tech-support  Not-in-family   \n",
       "\n",
       "                     race     sex  capital.gain  capital.loss  hours.per.week  \\\n",
       "1                   White  Female             0          4356              18   \n",
       "2                   Black  Female             0          4356              40   \n",
       "3                   White  Female             0          3900              40   \n",
       "4                   White  Female             0          3900              40   \n",
       "6                   White    Male             0          3770              40   \n",
       "...                   ...     ...           ...           ...             ...   \n",
       "32544               White    Male             0             0              25   \n",
       "32545               White  Female             0             0              48   \n",
       "32547               White  Female             0             0              20   \n",
       "32551               White    Male             0             0              50   \n",
       "32554  Asian-Pac-Islander    Male             0             0              11   \n",
       "\n",
       "      native.country income  \n",
       "1      United-States  <=50K  \n",
       "2      United-States  <=50K  \n",
       "3      United-States  <=50K  \n",
       "4      United-States  <=50K  \n",
       "6      United-States  <=50K  \n",
       "...              ...    ...  \n",
       "32544  United-States  <=50K  \n",
       "32545  United-States  <=50K  \n",
       "32547  United-States   >50K  \n",
       "32551  United-States  <=50K  \n",
       "32554         Taiwan  <=50K  \n",
       "\n",
       "[16280 rows x 15 columns]"
      ]
     },
     "execution_count": 99,
     "metadata": {},
     "output_type": "execute_result"
    }
   ],
   "source": [
    "train_df_nan.sort_index()"
   ]
  },
  {
   "cell_type": "markdown",
   "metadata": {},
   "source": [
    "The \"?\" symbols are now replaced with NaN values. "
   ]
  },
  {
   "cell_type": "markdown",
   "metadata": {},
   "source": [
    "<br><br>"
   ]
  },
  {
   "cell_type": "markdown",
   "metadata": {},
   "source": [
    "### 2.1 Visualizing features\n",
    "rubric={points:10}\n",
    "\n",
    "**Your tasks:**\n",
    "\n",
    "1. Examine the information given by `train_df_nan.info()` and `train_df_nan.describe()` methods. In case of `.describe()`, you can optimally use the `include=\"all\"` argument to show summary statistics of all  features.\n",
    "2. Visualize the histograms of numeric features. \n",
    "3. From the visualizations, which features seem relevant for the given prediction task?\n",
    "\n",
    "> Note: (Optional) If you're feeling excited about this you are welcome to use [`pandas_profiling`](https://github.com/pandas-profiling/pandas-profiling) for more elaborate visualization and EDA. "
   ]
  },
  {
   "cell_type": "code",
   "execution_count": 104,
   "metadata": {
    "tags": []
   },
   "outputs": [
    {
     "name": "stdout",
     "output_type": "stream",
     "text": [
      "<class 'pandas.core.frame.DataFrame'>\n",
      "Int64Index: 16280 entries, 27978 to 17673\n",
      "Data columns (total 15 columns):\n",
      " #   Column          Non-Null Count  Dtype \n",
      "---  ------          --------------  ----- \n",
      " 0   age             16280 non-null  int64 \n",
      " 1   workclass       15403 non-null  object\n",
      " 2   fnlwgt          16280 non-null  int64 \n",
      " 3   education       16280 non-null  object\n",
      " 4   education.num   16280 non-null  int64 \n",
      " 5   marital.status  16280 non-null  object\n",
      " 6   occupation      15398 non-null  object\n",
      " 7   relationship    16280 non-null  object\n",
      " 8   race            16280 non-null  object\n",
      " 9   sex             16280 non-null  object\n",
      " 10  capital.gain    16280 non-null  int64 \n",
      " 11  capital.loss    16280 non-null  int64 \n",
      " 12  hours.per.week  16280 non-null  int64 \n",
      " 13  native.country  15998 non-null  object\n",
      " 14  income          16280 non-null  object\n",
      "dtypes: int64(6), object(9)\n",
      "memory usage: 2.0+ MB\n",
      "                age workclass        fnlwgt education  education.num  \\\n",
      "count   16280.00000     15403  1.628000e+04     16280   16280.000000   \n",
      "unique          NaN         8           NaN        16            NaN   \n",
      "top             NaN   Private           NaN   HS-grad            NaN   \n",
      "freq            NaN     11404           NaN      5259            NaN   \n",
      "mean       38.55731       NaN  1.896666e+05       NaN      10.095885   \n",
      "std        13.53856       NaN  1.047738e+05       NaN       2.573179   \n",
      "min        17.00000       NaN  1.228500e+04       NaN       1.000000   \n",
      "25%        28.00000       NaN  1.178330e+05       NaN       9.000000   \n",
      "50%        37.00000       NaN  1.780250e+05       NaN      10.000000   \n",
      "75%        48.00000       NaN  2.369410e+05       NaN      12.000000   \n",
      "max        90.00000       NaN  1.455435e+06       NaN      16.000000   \n",
      "\n",
      "            marital.status      occupation relationship   race    sex  \\\n",
      "count                16280           15398        16280  16280  16280   \n",
      "unique                   7              14            6      5      2   \n",
      "top     Married-civ-spouse  Prof-specialty      Husband  White   Male   \n",
      "freq                  7498            2076         6582  13890  10887   \n",
      "mean                   NaN             NaN          NaN    NaN    NaN   \n",
      "std                    NaN             NaN          NaN    NaN    NaN   \n",
      "min                    NaN             NaN          NaN    NaN    NaN   \n",
      "25%                    NaN             NaN          NaN    NaN    NaN   \n",
      "50%                    NaN             NaN          NaN    NaN    NaN   \n",
      "75%                    NaN             NaN          NaN    NaN    NaN   \n",
      "max                    NaN             NaN          NaN    NaN    NaN   \n",
      "\n",
      "        capital.gain  capital.loss  hours.per.week native.country income  \n",
      "count   16280.000000  16280.000000    16280.000000          15998  16280  \n",
      "unique           NaN           NaN             NaN             40      2  \n",
      "top              NaN           NaN             NaN  United-States  <=50K  \n",
      "freq             NaN           NaN             NaN          14564  12355  \n",
      "mean     1101.524570     86.944287       40.569656            NaN    NaN  \n",
      "std      7518.801962    403.082228       12.394589            NaN    NaN  \n",
      "min         0.000000      0.000000        1.000000            NaN    NaN  \n",
      "25%         0.000000      0.000000       40.000000            NaN    NaN  \n",
      "50%         0.000000      0.000000       40.000000            NaN    NaN  \n",
      "75%         0.000000      0.000000       45.000000            NaN    NaN  \n",
      "max     99999.000000   4356.000000       99.000000            NaN    NaN  \n"
     ]
    },
    {
     "data": {
      "image/png": "[encoded data removed]",
      "text/plain": [
       "<Figure size 432x288 with 1 Axes>"
      ]
     },
     "metadata": {
      "needs_background": "light"
     },
     "output_type": "display_data"
    },
    {
     "data": {
      "image/png": "[encoded data removed]",
      "text/plain": [
       "<Figure size 432x288 with 1 Axes>"
      ]
     },
     "metadata": {
      "needs_background": "light"
     },
     "output_type": "display_data"
    },
    {
     "data": {
      "image/png": "[encoded data removed]",
      "text/plain": [
       "<Figure size 432x288 with 1 Axes>"
      ]
     },
     "metadata": {
      "needs_background": "light"
     },
     "output_type": "display_data"
    },
    {
     "data": {
      "image/png": "[encoded data removed]",
      "text/plain": [
       "<Figure size 432x288 with 1 Axes>"
      ]
     },
     "metadata": {
      "needs_background": "light"
     },
     "output_type": "display_data"
    },
    {
     "data": {
      "image/png": "[encoded data removed]",
      "text/plain": [
       "<Figure size 432x288 with 1 Axes>"
      ]
     },
     "metadata": {
      "needs_background": "light"
     },
     "output_type": "display_data"
    },
    {
     "data": {
      "image/png": "[encoded data removed]",
      "text/plain": [
       "<Figure size 432x288 with 1 Axes>"
      ]
     },
     "metadata": {
      "needs_background": "light"
     },
     "output_type": "display_data"
    }
   ],
   "source": [
    "train_df_nan.info()\n",
    "print(train_df_nan.describe(include=\"all\"))\n",
    "negative_examples = train_df_nan[train_df_nan.income == \"<=50K\"]\n",
    "positive_examples = train_df_nan[train_df_nan.income == \">50K\"]\n",
    "for (colname, columnData) in train_df_nan.iteritems():\n",
    "    if columnData.dtype == \"int64\":\n",
    "            d = {'below': negative_examples[colname], 'above':positive_examples[colname]}\n",
    "            df = pd.DataFrame(d)\n",
    "            name = \"Histogram of \" + colname + \" by target class\"\n",
    "            df.plot.hist(bins=35, alpha=0.5, title=name)\n",
    "            plt.xlabel(colname)\n",
    "            plt.ylabel(\"count\")\n",
    "            plt.show()\n",
    "    # else:\n",
    "    #         d = {'below': negative_examples[colname], 'above':positive_examples[colname]}\n",
    "    #         df = pd.DataFrame(d)\n",
    "    #         name = \"Count of below or equal 50K by \" + colname\n",
    "    #         df['below'].value_counts().plot(kind='bar', title=name)\n",
    "    #         plt.show()\n",
    "    #         ame = \"Count of above 50K by \" + colname\n",
    "    #         df['above'].value_counts().plot(kind='bar', title=name)\n",
    "    #         plt.show()"
   ]
  },
  {
   "cell_type": "markdown",
   "metadata": {},
   "source": [
    "From the visualizations of the numeric features, I chose to include: hours/week, capital gain, capital loss, age,  education.num.\n",
    "\n",
    "I chose to drop fnlwgt as the distribution for both higher and lower income individuals were very similar.\n",
    "\n",
    "Other meaningful features apart from the visualizations that I chose to include would be: workclass, marital.status, occupation, relationship, race, sex, native.country.\n",
    "\n",
    "I chose to drop education because education and education.num are identical features, except education.num has already processed the categorical variable into ordinal values."
   ]
  },
  {
   "cell_type": "markdown",
   "metadata": {},
   "source": [
    "<br><br>"
   ]
  },
  {
   "cell_type": "markdown",
   "metadata": {},
   "source": [
    "### 2.2 Identify transformations to apply\n",
    "rubric={points:18}\n",
    "\n",
    "**Your tasks:**\n",
    "1. Identify the sequence of transformations that you would apply on each column in the dataset and fill in the table below accordingly. An example of the sequence of transformations to be applied on the `occupation` feature is shown in the table below. You may decide not to apply any transformations on a certain column or entirely drop a column from your model. That's totally fine. \n",
    "2. Are there common transformations you would like to apply on certain types of features? Identify different feature types for applying different transformations. In particular, fill in the lists below. \n",
    "3. Is including the `race` feature for predicting income ethically a good idea? Briefly discuss. \n",
    "\n",
    "> Note: This question is a bit open-ended and there is no single correct solution."
   ]
  },
  {
   "cell_type": "markdown",
   "metadata": {},
   "source": [
    "| Feature | Transformation |\n",
    "| --- | ----------- |\n",
    "| occupation | imputation, OHE |\n",
    "| age | scale |\n",
    "| workclass | imputation, OHE |\n",
    "| fnlwgt | drop |\n",
    "| education | drop |\n",
    "| education.num | scale |\n",
    "| marital.status | OHE |\n",
    "| relationship | OHE |\n",
    "| race | OHE |\n",
    "| sex | OHE |\n",
    "| capital.gain | scale |\n",
    "| capital.loss | scale |\n",
    "| hours.per.week | scale |\n",
    "| native.country | imputation, OHE |\n"
   ]
  },
  {
   "cell_type": "code",
   "execution_count": 43,
   "metadata": {},
   "outputs": [],
   "source": [
    "# Fill in the lists below.\n",
    "# It's OK to keep some of the lists empty or add new lists.\n",
    "numeric_features = [\"age\", \"education.num\", \"capital.gain\", \"capital.loss\", \"hours.per.week\" ]\n",
    "categorical_features = [\"marital.status\", \"relationship\", \"race\", \"sex\"]\n",
    "ordinal_features = []\n",
    "binary_features = []\n",
    "null_categorical_features = [\"occupation\", \"workclass\", \"native.country\"]\n",
    "drop_features = [\"fnlwgt\", \"education\"]\n",
    "passthrough_features = []\n",
    "target = \"income\""
   ]
  },
  {
   "cell_type": "markdown",
   "metadata": {},
   "source": [
    "In my opinion, while it is not completely ethically sound to include race as a feature in predicting income, the distributions/visualizations provide statistical correlation, and would be effective in creating an objective, unbiased model. Thus I believe using features that have strong modern relevance such as race would be beneficial to include, despite potential controversy, but it is necessary to include a disclaimer to acknowledge the effect controversial features such as race or gender have on the model, and regularly monitor and model new statistics so that the model can reflect changing trends."
   ]
  },
  {
   "cell_type": "markdown",
   "metadata": {},
   "source": [
    "<br><br>"
   ]
  },
  {
   "cell_type": "markdown",
   "metadata": {},
   "source": [
    "### 2.3 Separating feature vectors and targets  \n",
    "rubric={points:4}\n",
    "\n",
    "**Your tasks:**\n",
    "\n",
    "1. Create `X_train`, `y_train`, `X_test`, `y_test` from `train_df_nan` and `test_df_nan`. \n",
    "2. At this point, if you train [`sklearn`'s `SVC`](https://scikit-learn.org/stable/modules/generated/sklearn.svm.SVC.html) model on `X_train` and `y_train` would it work? Why or why not?"
   ]
  },
  {
   "cell_type": "code",
   "execution_count": 112,
   "metadata": {},
   "outputs": [],
   "source": [
    "X_train = train_df_nan.drop(columns='income')\n",
    "y_train = train_df_nan['income']\n",
    "X_test = test_df_nan.drop(columns='income')\n",
    "y_test = test_df_nan['income']"
   ]
  },
  {
   "cell_type": "markdown",
   "metadata": {
    "tags": []
   },
   "source": [
    "No it would not work, as currently, there are still NaN values in the dataframes as well as unscaled values and categorical ones, so when SVC tries to calculate differences, not only will it not be able to calculate the categorical features and Nan values, but even if those were to be dropped/processed, specific features such as capital gain would completely outweight smaller magnitudes like age."
   ]
  },
  {
   "cell_type": "markdown",
   "metadata": {},
   "source": [
    "<br><br><br><br>"
   ]
  },
  {
   "cell_type": "markdown",
   "metadata": {},
   "source": [
    "## Exercise 3: Preprocessing <a name=\"3\"></a>\n",
    "<hr>"
   ]
  },
  {
   "cell_type": "markdown",
   "metadata": {},
   "source": [
    "### 3.1 Preprocessing using `sklearn`'s `ColumnTransformer` and `Pipeline`\n",
    "rubric={points:18}\n",
    "\n",
    "Let's carry out preprocessing using `sklearn`'s `ColumnTransformer` and `Pipeline`. Note that you can define pipelines in two ways: \n",
    "- by using [`Pipeline`](https://scikit-learn.org/stable/modules/generated/sklearn.pipeline.Pipeline.html) and explicitly providing named steps\n",
    "- by using [`make_pipeline`](https://scikit-learn.org/stable/modules/generated/sklearn.pipeline.make_pipeline.html#sklearn.pipeline.make_pipeline), which automatically names the steps in the pipeline with their class names. \n",
    "\n",
    "Similarly you can create a column transformer in two ways:\n",
    "- by using [`ColumnTransformer`](https://scikit-learn.org/stable/modules/generated/sklearn.compose.ColumnTransformer.html)\n",
    "- by using [`make_column_transformer`](https://scikit-learn.org/stable/modules/generated/sklearn.compose.make_column_transformer.html) \n",
    "\n",
    "You may use the method of your choice but `make_pipeline` and `make_column_transformer` are highly recommended.  \n",
    "\n",
    "**Your tasks:**\n",
    "\n",
    "1. Create a column transformer `preprocessor` based on transformations you want to apply on the data from 2.2. \n",
    "2. Transform the data by calling `fit_transform` on the training set. What's the shape of the transformed data? \n",
    "3. Why do we need to use a column transformer in this case? Briefly explain. "
   ]
  },
  {
   "cell_type": "code",
   "execution_count": 113,
   "metadata": {},
   "outputs": [
    {
     "data": {
      "text/plain": [
       "(16280, 87)"
      ]
     },
     "execution_count": 113,
     "metadata": {},
     "output_type": "execute_result"
    }
   ],
   "source": [
    "\n",
    "preprocessor = make_column_transformer(\n",
    "    (StandardScaler(), numeric_features),\n",
    "    (\n",
    "        make_pipeline(SimpleImputer(strategy=\"most_frequent\"), OneHotEncoder(sparse=False, handle_unknown=\"ignore\")),\n",
    "        null_categorical_features,\n",
    "    ), \n",
    "    (OneHotEncoder(sparse=False, handle_unknown=\"ignore\"), categorical_features), \n",
    "    (\"drop\", drop_features), \n",
    ")\n",
    "X_transformed = preprocessor.fit_transform(X_train)\n",
    "column_names = (\n",
    "    numeric_features\n",
    "    + preprocessor.named_transformers_[\"pipeline\"][\"onehotencoder\"].get_feature_names_out().tolist()\n",
    "    + preprocessor.named_transformers_[\"onehotencoder\"].get_feature_names_out().tolist()\n",
    ")\n",
    "pd.DataFrame(X_transformed, columns=column_names).shape"
   ]
  },
  {
   "cell_type": "markdown",
   "metadata": {},
   "source": [
    "We need to use column transformer because we need to apply a variety of transformers to a specific variety of data types that are not all applicable to the same transformations. For instance, the categorical Imputer would not be able to process numerical features, and the StandardScalar could not process categorical features. While we could split the data and process each split separately, that approach is more time consuming and prone to make more mistakes."
   ]
  },
  {
   "cell_type": "markdown",
   "metadata": {},
   "source": [
    "<br><br><br><br>"
   ]
  },
  {
   "cell_type": "markdown",
   "metadata": {
    "slideshow": {
     "slide_type": "slide"
    },
    "tags": []
   },
   "source": [
    "## Exercise 4: Building models <a name=\"4\"></a>\n",
    "<hr>\n",
    "\n",
    "Now that we have preprocessed features, we are ready to build models. Below, I'm providing the function we used in class which returns mean cross-validation score along with standard deviation for a given model. Feel free to use it to keep track of your results if you like. "
   ]
  },
  {
   "cell_type": "code",
   "execution_count": 66,
   "metadata": {
    "slideshow": {
     "slide_type": "slide"
    }
   },
   "outputs": [],
   "source": [
    "results_dict = {}  # dictionary to store all the results"
   ]
  },
  {
   "cell_type": "code",
   "execution_count": 67,
   "metadata": {},
   "outputs": [],
   "source": [
    "def mean_std_cross_val_scores(model, X_train, y_train, **kwargs):\n",
    "    \"\"\"\n",
    "    Returns mean and std of cross validation\n",
    "\n",
    "    Parameters\n",
    "    ----------\n",
    "    model :\n",
    "        scikit-learn model\n",
    "    X_train : numpy array or pandas DataFrame\n",
    "        X in the training data\n",
    "    y_train :\n",
    "        y in the training data\n",
    "\n",
    "    Returns\n",
    "    ----------\n",
    "        pandas Series with mean scores from cross_validation\n",
    "    \"\"\"\n",
    "\n",
    "    scores = cross_validate(model, X_train, y_train, **kwargs)\n",
    "\n",
    "    mean_scores = pd.DataFrame(scores).mean()\n",
    "    std_scores = pd.DataFrame(scores).std()\n",
    "    out_col = []\n",
    "\n",
    "    for i in range(len(mean_scores)):\n",
    "        out_col.append((f\"%0.3f (+/- %0.3f)\" % (mean_scores[i], std_scores[i])))\n",
    "\n",
    "    return pd.Series(data=out_col, index=mean_scores.index)"
   ]
  },
  {
   "cell_type": "markdown",
   "metadata": {},
   "source": [
    "<br><br>"
   ]
  },
  {
   "cell_type": "markdown",
   "metadata": {
    "slideshow": {
     "slide_type": "slide"
    }
   },
   "source": [
    "### 4.1 Baseline model \n",
    "rubric={points:6}\n",
    "\n",
    "**Your tasks:**\n",
    "1. Define a pipeline with two steps: `preprocessor` from 3.1 and `scikit-learn`'s `DummyClassifier` with `strategy=\"prior\"` as your classifier.  \n",
    "2. Carry out 5-fold cross-validation with the pipeline. Store the results in `results_dict` above. Display the results as a pandas DataFrame.  \n",
    "\n",
    "> You may use the function `mean_std_cross_val_scores` above to carry out cross-validation and storing results. Refer to the class notes if you are unsure about how to use it. "
   ]
  },
  {
   "cell_type": "code",
   "execution_count": 114,
   "metadata": {},
   "outputs": [
    {
     "data": {
      "text/html": [
       "<div>\n",
       "<style scoped>\n",
       "    .dataframe tbody tr th:only-of-type {\n",
       "        vertical-align: middle;\n",
       "    }\n",
       "\n",
       "    .dataframe tbody tr th {\n",
       "        vertical-align: top;\n",
       "    }\n",
       "\n",
       "    .dataframe thead th {\n",
       "        text-align: right;\n",
       "    }\n",
       "</style>\n",
       "<table border=\"1\" class=\"dataframe\">\n",
       "  <thead>\n",
       "    <tr style=\"text-align: right;\">\n",
       "      <th></th>\n",
       "      <th>fit_time</th>\n",
       "      <th>score_time</th>\n",
       "      <th>test_score</th>\n",
       "      <th>train_score</th>\n",
       "    </tr>\n",
       "  </thead>\n",
       "  <tbody>\n",
       "    <tr>\n",
       "      <th>dummy</th>\n",
       "      <td>0.044 (+/- 0.006)</td>\n",
       "      <td>0.019 (+/- 0.009)</td>\n",
       "      <td>0.759 (+/- 0.000)</td>\n",
       "      <td>0.759 (+/- 0.000)</td>\n",
       "    </tr>\n",
       "    <tr>\n",
       "      <th>decision tree</th>\n",
       "      <td>8.248 (+/- 0.198)</td>\n",
       "      <td>0.018 (+/- 0.001)</td>\n",
       "      <td>0.810 (+/- 0.004)</td>\n",
       "      <td>0.986 (+/- 0.001)</td>\n",
       "    </tr>\n",
       "    <tr>\n",
       "      <th>kNN</th>\n",
       "      <td>0.050 (+/- 0.001)</td>\n",
       "      <td>0.209 (+/- 0.013)</td>\n",
       "      <td>0.832 (+/- 0.008)</td>\n",
       "      <td>0.880 (+/- 0.003)</td>\n",
       "    </tr>\n",
       "    <tr>\n",
       "      <th>RBF SVM</th>\n",
       "      <td>5.955 (+/- 0.426)</td>\n",
       "      <td>3.246 (+/- 0.157)</td>\n",
       "      <td>0.852 (+/- 0.008)</td>\n",
       "      <td>0.852 (+/- 0.001)</td>\n",
       "    </tr>\n",
       "    <tr>\n",
       "      <th>RBF SVM, C=0.01</th>\n",
       "      <td>8.802 (+/- 0.415)</td>\n",
       "      <td>4.418 (+/- 0.183)</td>\n",
       "      <td>0.813 (+/- 0.003)</td>\n",
       "      <td>0.814 (+/- 0.004)</td>\n",
       "    </tr>\n",
       "    <tr>\n",
       "      <th>RBF SVM, C=0.1</th>\n",
       "      <td>7.252 (+/- 0.704)</td>\n",
       "      <td>3.822 (+/- 0.370)</td>\n",
       "      <td>0.851 (+/- 0.009)</td>\n",
       "      <td>0.853 (+/- 0.002)</td>\n",
       "    </tr>\n",
       "    <tr>\n",
       "      <th>RBF SVM, C=1.0</th>\n",
       "      <td>6.102 (+/- 0.132)</td>\n",
       "      <td>3.003 (+/- 0.043)</td>\n",
       "      <td>0.854 (+/- 0.004)</td>\n",
       "      <td>0.866 (+/- 0.001)</td>\n",
       "    </tr>\n",
       "    <tr>\n",
       "      <th>RBF SVM, C=10.0</th>\n",
       "      <td>7.860 (+/- 0.173)</td>\n",
       "      <td>3.070 (+/- 0.188)</td>\n",
       "      <td>0.853 (+/- 0.004)</td>\n",
       "      <td>0.886 (+/- 0.001)</td>\n",
       "    </tr>\n",
       "    <tr>\n",
       "      <th>RBF SVM, C=100.0</th>\n",
       "      <td>12.853 (+/- 0.559)</td>\n",
       "      <td>2.758 (+/- 0.056)</td>\n",
       "      <td>0.840 (+/- 0.004)</td>\n",
       "      <td>0.909 (+/- 0.001)</td>\n",
       "    </tr>\n",
       "    <tr>\n",
       "      <th>Unscaled decision tree</th>\n",
       "      <td>6.459 (+/- 0.416)</td>\n",
       "      <td>0.016 (+/- 0.001)</td>\n",
       "      <td>0.811 (+/- 0.009)</td>\n",
       "      <td>0.873 (+/- 0.002)</td>\n",
       "    </tr>\n",
       "    <tr>\n",
       "      <th>Unscaled kNN</th>\n",
       "      <td>0.047 (+/- 0.002)</td>\n",
       "      <td>0.193 (+/- 0.003)</td>\n",
       "      <td>0.808 (+/- 0.006)</td>\n",
       "      <td>0.832 (+/- 0.006)</td>\n",
       "    </tr>\n",
       "    <tr>\n",
       "      <th>Unscaled RBF SVM</th>\n",
       "      <td>7.928 (+/- 0.213)</td>\n",
       "      <td>4.039 (+/- 0.235)</td>\n",
       "      <td>0.813 (+/- 0.006)</td>\n",
       "      <td>0.813 (+/- 0.005)</td>\n",
       "    </tr>\n",
       "  </tbody>\n",
       "</table>\n",
       "</div>"
      ],
      "text/plain": [
       "                                  fit_time         score_time  \\\n",
       "dummy                    0.044 (+/- 0.006)  0.019 (+/- 0.009)   \n",
       "decision tree            8.248 (+/- 0.198)  0.018 (+/- 0.001)   \n",
       "kNN                      0.050 (+/- 0.001)  0.209 (+/- 0.013)   \n",
       "RBF SVM                  5.955 (+/- 0.426)  3.246 (+/- 0.157)   \n",
       "RBF SVM, C=0.01          8.802 (+/- 0.415)  4.418 (+/- 0.183)   \n",
       "RBF SVM, C=0.1           7.252 (+/- 0.704)  3.822 (+/- 0.370)   \n",
       "RBF SVM, C=1.0           6.102 (+/- 0.132)  3.003 (+/- 0.043)   \n",
       "RBF SVM, C=10.0          7.860 (+/- 0.173)  3.070 (+/- 0.188)   \n",
       "RBF SVM, C=100.0        12.853 (+/- 0.559)  2.758 (+/- 0.056)   \n",
       "Unscaled decision tree   6.459 (+/- 0.416)  0.016 (+/- 0.001)   \n",
       "Unscaled kNN             0.047 (+/- 0.002)  0.193 (+/- 0.003)   \n",
       "Unscaled RBF SVM         7.928 (+/- 0.213)  4.039 (+/- 0.235)   \n",
       "\n",
       "                               test_score        train_score  \n",
       "dummy                   0.759 (+/- 0.000)  0.759 (+/- 0.000)  \n",
       "decision tree           0.810 (+/- 0.004)  0.986 (+/- 0.001)  \n",
       "kNN                     0.832 (+/- 0.008)  0.880 (+/- 0.003)  \n",
       "RBF SVM                 0.852 (+/- 0.008)  0.852 (+/- 0.001)  \n",
       "RBF SVM, C=0.01         0.813 (+/- 0.003)  0.814 (+/- 0.004)  \n",
       "RBF SVM, C=0.1          0.851 (+/- 0.009)  0.853 (+/- 0.002)  \n",
       "RBF SVM, C=1.0          0.854 (+/- 0.004)  0.866 (+/- 0.001)  \n",
       "RBF SVM, C=10.0         0.853 (+/- 0.004)  0.886 (+/- 0.001)  \n",
       "RBF SVM, C=100.0        0.840 (+/- 0.004)  0.909 (+/- 0.001)  \n",
       "Unscaled decision tree  0.811 (+/- 0.009)  0.873 (+/- 0.002)  \n",
       "Unscaled kNN            0.808 (+/- 0.006)  0.832 (+/- 0.006)  \n",
       "Unscaled RBF SVM        0.813 (+/- 0.006)  0.813 (+/- 0.005)  "
      ]
     },
     "execution_count": 114,
     "metadata": {},
     "output_type": "execute_result"
    }
   ],
   "source": [
    "pipe = make_pipeline(preprocessor, DummyClassifier(strategy=\"prior\"))\n",
    "results_dict[\"dummy\"] = mean_std_cross_val_scores(pipe, X_train, y_train, cv=5, return_train_score=True)\n",
    "pd.DataFrame(results_dict).T"
   ]
  },
  {
   "cell_type": "markdown",
   "metadata": {},
   "source": []
  },
  {
   "cell_type": "markdown",
   "metadata": {},
   "source": [
    "<br><br>"
   ]
  },
  {
   "cell_type": "markdown",
   "metadata": {
    "slideshow": {
     "slide_type": "slide"
    }
   },
   "source": [
    "### 4.2 Trying different classifiers\n",
    "rubric={points:14}\n",
    "\n",
    "**Your tasks:**\n",
    "\n",
    "1. For each of the models in the starter code below: \n",
    "    - Define a pipeline with two steps: `preprocessor` from 3.1 and the model as your classifier. \n",
    "    - Carry out 5-fold cross-validation with the pipeline.  \n",
    "    - Store the results in `results_dict`. \n",
    "2. Display all the results so far as a pandas dataframe. \n",
    "3. Compare the train and validation accuracies and `fit` and `score` times in each case. How do the the validation accuracies compare to the baseline model from 4.1? Which model has the best validation accuracy? Which model is the fastest one?  \n",
    "\n",
    "> Note that this might take a while to run.\n",
    "\n",
    "> You may use the function above `mean_std_cross_val_scores` to carry out cross-validation and storing results. Refer to the class notes if you are unsure about how to use it. "
   ]
  },
  {
   "cell_type": "code",
   "execution_count": null,
   "metadata": {},
   "outputs": [
    {
     "data": {
      "text/html": [
       "<div>\n",
       "<style scoped>\n",
       "    .dataframe tbody tr th:only-of-type {\n",
       "        vertical-align: middle;\n",
       "    }\n",
       "\n",
       "    .dataframe tbody tr th {\n",
       "        vertical-align: top;\n",
       "    }\n",
       "\n",
       "    .dataframe thead th {\n",
       "        text-align: right;\n",
       "    }\n",
       "</style>\n",
       "<table border=\"1\" class=\"dataframe\">\n",
       "  <thead>\n",
       "    <tr style=\"text-align: right;\">\n",
       "      <th></th>\n",
       "      <th>fit_time</th>\n",
       "      <th>score_time</th>\n",
       "      <th>test_score</th>\n",
       "      <th>train_score</th>\n",
       "    </tr>\n",
       "  </thead>\n",
       "  <tbody>\n",
       "    <tr>\n",
       "      <th>dummy</th>\n",
       "      <td>0.044 (+/- 0.006)</td>\n",
       "      <td>0.019 (+/- 0.009)</td>\n",
       "      <td>0.759 (+/- 0.000)</td>\n",
       "      <td>0.759 (+/- 0.000)</td>\n",
       "    </tr>\n",
       "    <tr>\n",
       "      <th>decision tree</th>\n",
       "      <td>8.092 (+/- 0.116)</td>\n",
       "      <td>0.017 (+/- 0.002)</td>\n",
       "      <td>0.813 (+/- 0.002)</td>\n",
       "      <td>0.986 (+/- 0.001)</td>\n",
       "    </tr>\n",
       "    <tr>\n",
       "      <th>kNN</th>\n",
       "      <td>0.050 (+/- 0.005)</td>\n",
       "      <td>0.299 (+/- 0.074)</td>\n",
       "      <td>0.833 (+/- 0.008)</td>\n",
       "      <td>0.884 (+/- 0.002)</td>\n",
       "    </tr>\n",
       "    <tr>\n",
       "      <th>RBF SVM</th>\n",
       "      <td>6.685 (+/- 0.439)</td>\n",
       "      <td>3.293 (+/- 0.468)</td>\n",
       "      <td>0.854 (+/- 0.004)</td>\n",
       "      <td>0.866 (+/- 0.001)</td>\n",
       "    </tr>\n",
       "    <tr>\n",
       "      <th>RBF SVM, C=0.01</th>\n",
       "      <td>8.802 (+/- 0.415)</td>\n",
       "      <td>4.418 (+/- 0.183)</td>\n",
       "      <td>0.813 (+/- 0.003)</td>\n",
       "      <td>0.814 (+/- 0.004)</td>\n",
       "    </tr>\n",
       "    <tr>\n",
       "      <th>RBF SVM, C=0.1</th>\n",
       "      <td>7.252 (+/- 0.704)</td>\n",
       "      <td>3.822 (+/- 0.370)</td>\n",
       "      <td>0.851 (+/- 0.009)</td>\n",
       "      <td>0.853 (+/- 0.002)</td>\n",
       "    </tr>\n",
       "    <tr>\n",
       "      <th>RBF SVM, C=1.0</th>\n",
       "      <td>6.102 (+/- 0.132)</td>\n",
       "      <td>3.003 (+/- 0.043)</td>\n",
       "      <td>0.854 (+/- 0.004)</td>\n",
       "      <td>0.866 (+/- 0.001)</td>\n",
       "    </tr>\n",
       "    <tr>\n",
       "      <th>RBF SVM, C=10.0</th>\n",
       "      <td>7.860 (+/- 0.173)</td>\n",
       "      <td>3.070 (+/- 0.188)</td>\n",
       "      <td>0.853 (+/- 0.004)</td>\n",
       "      <td>0.886 (+/- 0.001)</td>\n",
       "    </tr>\n",
       "    <tr>\n",
       "      <th>RBF SVM, C=100.0</th>\n",
       "      <td>12.853 (+/- 0.559)</td>\n",
       "      <td>2.758 (+/- 0.056)</td>\n",
       "      <td>0.840 (+/- 0.004)</td>\n",
       "      <td>0.909 (+/- 0.001)</td>\n",
       "    </tr>\n",
       "    <tr>\n",
       "      <th>Unscaled decision tree</th>\n",
       "      <td>6.459 (+/- 0.416)</td>\n",
       "      <td>0.016 (+/- 0.001)</td>\n",
       "      <td>0.811 (+/- 0.009)</td>\n",
       "      <td>0.873 (+/- 0.002)</td>\n",
       "    </tr>\n",
       "    <tr>\n",
       "      <th>Unscaled kNN</th>\n",
       "      <td>0.047 (+/- 0.002)</td>\n",
       "      <td>0.193 (+/- 0.003)</td>\n",
       "      <td>0.808 (+/- 0.006)</td>\n",
       "      <td>0.832 (+/- 0.006)</td>\n",
       "    </tr>\n",
       "    <tr>\n",
       "      <th>Unscaled RBF SVM</th>\n",
       "      <td>7.928 (+/- 0.213)</td>\n",
       "      <td>4.039 (+/- 0.235)</td>\n",
       "      <td>0.813 (+/- 0.006)</td>\n",
       "      <td>0.813 (+/- 0.005)</td>\n",
       "    </tr>\n",
       "  </tbody>\n",
       "</table>\n",
       "</div>"
      ],
      "text/plain": [
       "                                  fit_time         score_time  \\\n",
       "dummy                    0.044 (+/- 0.006)  0.019 (+/- 0.009)   \n",
       "decision tree            8.092 (+/- 0.116)  0.017 (+/- 0.002)   \n",
       "kNN                      0.050 (+/- 0.005)  0.299 (+/- 0.074)   \n",
       "RBF SVM                  6.685 (+/- 0.439)  3.293 (+/- 0.468)   \n",
       "RBF SVM, C=0.01          8.802 (+/- 0.415)  4.418 (+/- 0.183)   \n",
       "RBF SVM, C=0.1           7.252 (+/- 0.704)  3.822 (+/- 0.370)   \n",
       "RBF SVM, C=1.0           6.102 (+/- 0.132)  3.003 (+/- 0.043)   \n",
       "RBF SVM, C=10.0          7.860 (+/- 0.173)  3.070 (+/- 0.188)   \n",
       "RBF SVM, C=100.0        12.853 (+/- 0.559)  2.758 (+/- 0.056)   \n",
       "Unscaled decision tree   6.459 (+/- 0.416)  0.016 (+/- 0.001)   \n",
       "Unscaled kNN             0.047 (+/- 0.002)  0.193 (+/- 0.003)   \n",
       "Unscaled RBF SVM         7.928 (+/- 0.213)  4.039 (+/- 0.235)   \n",
       "\n",
       "                               test_score        train_score  \n",
       "dummy                   0.759 (+/- 0.000)  0.759 (+/- 0.000)  \n",
       "decision tree           0.813 (+/- 0.002)  0.986 (+/- 0.001)  \n",
       "kNN                     0.833 (+/- 0.008)  0.884 (+/- 0.002)  \n",
       "RBF SVM                 0.854 (+/- 0.004)  0.866 (+/- 0.001)  \n",
       "RBF SVM, C=0.01         0.813 (+/- 0.003)  0.814 (+/- 0.004)  \n",
       "RBF SVM, C=0.1          0.851 (+/- 0.009)  0.853 (+/- 0.002)  \n",
       "RBF SVM, C=1.0          0.854 (+/- 0.004)  0.866 (+/- 0.001)  \n",
       "RBF SVM, C=10.0         0.853 (+/- 0.004)  0.886 (+/- 0.001)  \n",
       "RBF SVM, C=100.0        0.840 (+/- 0.004)  0.909 (+/- 0.001)  \n",
       "Unscaled decision tree  0.811 (+/- 0.009)  0.873 (+/- 0.002)  \n",
       "Unscaled kNN            0.808 (+/- 0.006)  0.832 (+/- 0.006)  \n",
       "Unscaled RBF SVM        0.813 (+/- 0.006)  0.813 (+/- 0.005)  "
      ]
     },
     "execution_count": 115,
     "metadata": {},
     "output_type": "execute_result"
    }
   ],
   "source": [
    "models = {\n",
    "    \"decision tree\": DecisionTreeClassifier(),\n",
    "    \"kNN\": KNeighborsClassifier(),\n",
    "    \"RBF SVM\": SVC(),\n",
    "}\n",
    "for key, model in models.items():\n",
    "    pipe = make_pipeline(preprocessor, model)\n",
    "    results_dict[key] = mean_std_cross_val_scores(pipe, X_train, y_train, cv=5, return_train_score=True)\n",
    "pd.DataFrame(results_dict).T"
   ]
  },
  {
   "cell_type": "markdown",
   "metadata": {},
   "source": [
    "In each case, the validation accuracies are better than the dummy model, albeit slower, as actual calculations are being done\n",
    "\n",
    "best validation accuracy: RBF SVM\n",
    "\n",
    "fastest model for fit: kNN\n",
    "\n",
    "fastest model for score: decision tree\n"
   ]
  },
  {
   "cell_type": "markdown",
   "metadata": {},
   "source": [
    "<br><br>"
   ]
  },
  {
   "cell_type": "markdown",
   "metadata": {},
   "source": [
    "### (optional) 4.3 Exploring importance of scaling\n",
    "rubric={points:1}\n",
    "\n",
    "In this exercise you'll examine whether scaling helps in case of KNNs and SVM RBFs. \n",
    "\n",
    "**Your tasks:**\n",
    "\n",
    "1. Create a column transformer without the `StandardScaler` step for `numeric_features`. \n",
    "2. Repeat the steps in 4.2 with this new column transformer. \n",
    "3. Compare the results of scaled numeric features with unscaled numeric features. Is scaling necessary for decision trees? Why or why not?"
   ]
  },
  {
   "cell_type": "code",
   "execution_count": 91,
   "metadata": {},
   "outputs": [
    {
     "data": {
      "text/html": [
       "<div>\n",
       "<style scoped>\n",
       "    .dataframe tbody tr th:only-of-type {\n",
       "        vertical-align: middle;\n",
       "    }\n",
       "\n",
       "    .dataframe tbody tr th {\n",
       "        vertical-align: top;\n",
       "    }\n",
       "\n",
       "    .dataframe thead th {\n",
       "        text-align: right;\n",
       "    }\n",
       "</style>\n",
       "<table border=\"1\" class=\"dataframe\">\n",
       "  <thead>\n",
       "    <tr style=\"text-align: right;\">\n",
       "      <th></th>\n",
       "      <th>fit_time</th>\n",
       "      <th>score_time</th>\n",
       "      <th>test_score</th>\n",
       "      <th>train_score</th>\n",
       "    </tr>\n",
       "  </thead>\n",
       "  <tbody>\n",
       "    <tr>\n",
       "      <th>dummy</th>\n",
       "      <td>0.045 (+/- 0.004)</td>\n",
       "      <td>0.018 (+/- 0.004)</td>\n",
       "      <td>0.759 (+/- 0.000)</td>\n",
       "      <td>0.759 (+/- 0.000)</td>\n",
       "    </tr>\n",
       "    <tr>\n",
       "      <th>decision tree</th>\n",
       "      <td>8.248 (+/- 0.198)</td>\n",
       "      <td>0.018 (+/- 0.001)</td>\n",
       "      <td>0.810 (+/- 0.004)</td>\n",
       "      <td>0.986 (+/- 0.001)</td>\n",
       "    </tr>\n",
       "    <tr>\n",
       "      <th>kNN</th>\n",
       "      <td>0.050 (+/- 0.001)</td>\n",
       "      <td>0.209 (+/- 0.013)</td>\n",
       "      <td>0.832 (+/- 0.008)</td>\n",
       "      <td>0.880 (+/- 0.003)</td>\n",
       "    </tr>\n",
       "    <tr>\n",
       "      <th>RBF SVM</th>\n",
       "      <td>5.955 (+/- 0.426)</td>\n",
       "      <td>3.246 (+/- 0.157)</td>\n",
       "      <td>0.852 (+/- 0.008)</td>\n",
       "      <td>0.852 (+/- 0.001)</td>\n",
       "    </tr>\n",
       "    <tr>\n",
       "      <th>RBF SVM, C=0.01</th>\n",
       "      <td>8.041 (+/- 0.173)</td>\n",
       "      <td>4.559 (+/- 0.111)</td>\n",
       "      <td>0.764 (+/- 0.001)</td>\n",
       "      <td>0.764 (+/- 0.000)</td>\n",
       "    </tr>\n",
       "    <tr>\n",
       "      <th>RBF SVM, C=0.1</th>\n",
       "      <td>6.962 (+/- 0.124)</td>\n",
       "      <td>4.204 (+/- 0.072)</td>\n",
       "      <td>0.833 (+/- 0.002)</td>\n",
       "      <td>0.835 (+/- 0.002)</td>\n",
       "    </tr>\n",
       "    <tr>\n",
       "      <th>RBF SVM, C=1.0</th>\n",
       "      <td>5.897 (+/- 0.187)</td>\n",
       "      <td>3.325 (+/- 0.085)</td>\n",
       "      <td>0.852 (+/- 0.008)</td>\n",
       "      <td>0.852 (+/- 0.001)</td>\n",
       "    </tr>\n",
       "    <tr>\n",
       "      <th>RBF SVM, C=10.0</th>\n",
       "      <td>6.046 (+/- 0.142)</td>\n",
       "      <td>3.056 (+/- 0.096)</td>\n",
       "      <td>0.853 (+/- 0.008)</td>\n",
       "      <td>0.857 (+/- 0.002)</td>\n",
       "    </tr>\n",
       "    <tr>\n",
       "      <th>RBF SVM, C=100.0</th>\n",
       "      <td>8.076 (+/- 0.239)</td>\n",
       "      <td>2.736 (+/- 0.123)</td>\n",
       "      <td>0.852 (+/- 0.004)</td>\n",
       "      <td>0.867 (+/- 0.000)</td>\n",
       "    </tr>\n",
       "    <tr>\n",
       "      <th>Unscaled decision tree</th>\n",
       "      <td>6.459 (+/- 0.416)</td>\n",
       "      <td>0.016 (+/- 0.001)</td>\n",
       "      <td>0.811 (+/- 0.009)</td>\n",
       "      <td>0.873 (+/- 0.002)</td>\n",
       "    </tr>\n",
       "    <tr>\n",
       "      <th>Unscaled kNN</th>\n",
       "      <td>0.047 (+/- 0.002)</td>\n",
       "      <td>0.193 (+/- 0.003)</td>\n",
       "      <td>0.808 (+/- 0.006)</td>\n",
       "      <td>0.832 (+/- 0.006)</td>\n",
       "    </tr>\n",
       "    <tr>\n",
       "      <th>Unscaled RBF SVM</th>\n",
       "      <td>7.928 (+/- 0.213)</td>\n",
       "      <td>4.039 (+/- 0.235)</td>\n",
       "      <td>0.813 (+/- 0.006)</td>\n",
       "      <td>0.813 (+/- 0.005)</td>\n",
       "    </tr>\n",
       "  </tbody>\n",
       "</table>\n",
       "</div>"
      ],
      "text/plain": [
       "                                 fit_time         score_time  \\\n",
       "dummy                   0.045 (+/- 0.004)  0.018 (+/- 0.004)   \n",
       "decision tree           8.248 (+/- 0.198)  0.018 (+/- 0.001)   \n",
       "kNN                     0.050 (+/- 0.001)  0.209 (+/- 0.013)   \n",
       "RBF SVM                 5.955 (+/- 0.426)  3.246 (+/- 0.157)   \n",
       "RBF SVM, C=0.01         8.041 (+/- 0.173)  4.559 (+/- 0.111)   \n",
       "RBF SVM, C=0.1          6.962 (+/- 0.124)  4.204 (+/- 0.072)   \n",
       "RBF SVM, C=1.0          5.897 (+/- 0.187)  3.325 (+/- 0.085)   \n",
       "RBF SVM, C=10.0         6.046 (+/- 0.142)  3.056 (+/- 0.096)   \n",
       "RBF SVM, C=100.0        8.076 (+/- 0.239)  2.736 (+/- 0.123)   \n",
       "Unscaled decision tree  6.459 (+/- 0.416)  0.016 (+/- 0.001)   \n",
       "Unscaled kNN            0.047 (+/- 0.002)  0.193 (+/- 0.003)   \n",
       "Unscaled RBF SVM        7.928 (+/- 0.213)  4.039 (+/- 0.235)   \n",
       "\n",
       "                               test_score        train_score  \n",
       "dummy                   0.759 (+/- 0.000)  0.759 (+/- 0.000)  \n",
       "decision tree           0.810 (+/- 0.004)  0.986 (+/- 0.001)  \n",
       "kNN                     0.832 (+/- 0.008)  0.880 (+/- 0.003)  \n",
       "RBF SVM                 0.852 (+/- 0.008)  0.852 (+/- 0.001)  \n",
       "RBF SVM, C=0.01         0.764 (+/- 0.001)  0.764 (+/- 0.000)  \n",
       "RBF SVM, C=0.1          0.833 (+/- 0.002)  0.835 (+/- 0.002)  \n",
       "RBF SVM, C=1.0          0.852 (+/- 0.008)  0.852 (+/- 0.001)  \n",
       "RBF SVM, C=10.0         0.853 (+/- 0.008)  0.857 (+/- 0.002)  \n",
       "RBF SVM, C=100.0        0.852 (+/- 0.004)  0.867 (+/- 0.000)  \n",
       "Unscaled decision tree  0.811 (+/- 0.009)  0.873 (+/- 0.002)  \n",
       "Unscaled kNN            0.808 (+/- 0.006)  0.832 (+/- 0.006)  \n",
       "Unscaled RBF SVM        0.813 (+/- 0.006)  0.813 (+/- 0.005)  "
      ]
     },
     "execution_count": 91,
     "metadata": {},
     "output_type": "execute_result"
    }
   ],
   "source": [
    "preprocessor2 = make_column_transformer(\n",
    "    (\n",
    "        make_pipeline(SimpleImputer(strategy=\"most_frequent\"), OneHotEncoder(sparse=False, handle_unknown=\"ignore\")),\n",
    "        null_categorical_features,\n",
    "    ), \n",
    "    (OneHotEncoder(sparse=False, handle_unknown=\"ignore\"), categorical_features), \n",
    "    (\"drop\", drop_features), \n",
    ")\n",
    "X_transformed = preprocessor2.fit_transform(X_train)\n",
    "for key, model in models.items():\n",
    "    pipe = make_pipeline(preprocessor2, model)\n",
    "    name = \"Unscaled \"+ key\n",
    "    results_dict[name] = mean_std_cross_val_scores(pipe, X_train, y_train, cv=5, return_train_score=True)\n",
    "pd.DataFrame(results_dict).T"
   ]
  },
  {
   "cell_type": "markdown",
   "metadata": {},
   "source": [
    "Compared to their scaled counterparts, the unscaled kNN and RBF cv scores are lower, this is because unscaled numeric features causes larger magnitude features to be weighed much heavier than smaller magnitude features. However, decision trees are not affected by scaling issues as decision trees evaluate features individually (eg. age >50, capital loss < 10000), and do not combine such thresholds."
   ]
  },
  {
   "cell_type": "markdown",
   "metadata": {},
   "source": [
    "### 4.4 Hyperparameter optimization\n",
    "rubric={points:10}\n",
    "\n",
    "In this exercise, you'll carry out hyperparameter optimization for the hyperparameter `C` of SVC RBF classifier. In practice you'll carry out hyperparameter optimization for all different hyperparameters for the most promising classifiers. For the purpose of this assignment, we'll only do it for the `SVC` classifier with one hyperparameter: `C`. \n",
    "\n",
    "**Your tasks:**\n",
    "\n",
    "1. For each `C` value in the `param_grid` in the starter code below: \n",
    "    - Create a pipeline object with two steps: preprocessor from 3.1 and `SVC` classifier with the value of `C`.\n",
    "    - Carry out 5-fold cross validation with the pipeline.  \n",
    "    - Store the results in `results_dict` and display results as a pandas DataFrame. \n",
    "2. The hyperparameter `C = 1.0` is the default value in `scikit-learn`. Does this default value (`C = 1.0`) seem reasonable, meaning it is performing the best or comparable to the best `C` values?\n",
    "\n",
    "> Note: Running this might take a while. "
   ]
  },
  {
   "cell_type": "code",
   "execution_count": 116,
   "metadata": {},
   "outputs": [
    {
     "data": {
      "text/html": [
       "<div>\n",
       "<style scoped>\n",
       "    .dataframe tbody tr th:only-of-type {\n",
       "        vertical-align: middle;\n",
       "    }\n",
       "\n",
       "    .dataframe tbody tr th {\n",
       "        vertical-align: top;\n",
       "    }\n",
       "\n",
       "    .dataframe thead th {\n",
       "        text-align: right;\n",
       "    }\n",
       "</style>\n",
       "<table border=\"1\" class=\"dataframe\">\n",
       "  <thead>\n",
       "    <tr style=\"text-align: right;\">\n",
       "      <th></th>\n",
       "      <th>fit_time</th>\n",
       "      <th>score_time</th>\n",
       "      <th>test_score</th>\n",
       "      <th>train_score</th>\n",
       "    </tr>\n",
       "  </thead>\n",
       "  <tbody>\n",
       "    <tr>\n",
       "      <th>dummy</th>\n",
       "      <td>0.044 (+/- 0.006)</td>\n",
       "      <td>0.019 (+/- 0.009)</td>\n",
       "      <td>0.759 (+/- 0.000)</td>\n",
       "      <td>0.759 (+/- 0.000)</td>\n",
       "    </tr>\n",
       "    <tr>\n",
       "      <th>decision tree</th>\n",
       "      <td>8.092 (+/- 0.116)</td>\n",
       "      <td>0.017 (+/- 0.002)</td>\n",
       "      <td>0.813 (+/- 0.002)</td>\n",
       "      <td>0.986 (+/- 0.001)</td>\n",
       "    </tr>\n",
       "    <tr>\n",
       "      <th>kNN</th>\n",
       "      <td>0.050 (+/- 0.005)</td>\n",
       "      <td>0.299 (+/- 0.074)</td>\n",
       "      <td>0.833 (+/- 0.008)</td>\n",
       "      <td>0.884 (+/- 0.002)</td>\n",
       "    </tr>\n",
       "    <tr>\n",
       "      <th>RBF SVM</th>\n",
       "      <td>6.685 (+/- 0.439)</td>\n",
       "      <td>3.293 (+/- 0.468)</td>\n",
       "      <td>0.854 (+/- 0.004)</td>\n",
       "      <td>0.866 (+/- 0.001)</td>\n",
       "    </tr>\n",
       "    <tr>\n",
       "      <th>RBF SVM, C=0.01</th>\n",
       "      <td>8.514 (+/- 0.785)</td>\n",
       "      <td>4.155 (+/- 0.167)</td>\n",
       "      <td>0.813 (+/- 0.003)</td>\n",
       "      <td>0.814 (+/- 0.004)</td>\n",
       "    </tr>\n",
       "    <tr>\n",
       "      <th>RBF SVM, C=0.1</th>\n",
       "      <td>6.792 (+/- 0.624)</td>\n",
       "      <td>3.065 (+/- 0.059)</td>\n",
       "      <td>0.851 (+/- 0.009)</td>\n",
       "      <td>0.853 (+/- 0.002)</td>\n",
       "    </tr>\n",
       "    <tr>\n",
       "      <th>RBF SVM, C=1.0</th>\n",
       "      <td>6.569 (+/- 0.898)</td>\n",
       "      <td>2.972 (+/- 0.161)</td>\n",
       "      <td>0.854 (+/- 0.004)</td>\n",
       "      <td>0.866 (+/- 0.001)</td>\n",
       "    </tr>\n",
       "    <tr>\n",
       "      <th>RBF SVM, C=10.0</th>\n",
       "      <td>8.281 (+/- 0.518)</td>\n",
       "      <td>2.851 (+/- 0.117)</td>\n",
       "      <td>0.853 (+/- 0.004)</td>\n",
       "      <td>0.886 (+/- 0.001)</td>\n",
       "    </tr>\n",
       "    <tr>\n",
       "      <th>RBF SVM, C=100.0</th>\n",
       "      <td>12.621 (+/- 0.401)</td>\n",
       "      <td>2.764 (+/- 0.067)</td>\n",
       "      <td>0.840 (+/- 0.004)</td>\n",
       "      <td>0.909 (+/- 0.001)</td>\n",
       "    </tr>\n",
       "    <tr>\n",
       "      <th>Unscaled decision tree</th>\n",
       "      <td>6.459 (+/- 0.416)</td>\n",
       "      <td>0.016 (+/- 0.001)</td>\n",
       "      <td>0.811 (+/- 0.009)</td>\n",
       "      <td>0.873 (+/- 0.002)</td>\n",
       "    </tr>\n",
       "    <tr>\n",
       "      <th>Unscaled kNN</th>\n",
       "      <td>0.047 (+/- 0.002)</td>\n",
       "      <td>0.193 (+/- 0.003)</td>\n",
       "      <td>0.808 (+/- 0.006)</td>\n",
       "      <td>0.832 (+/- 0.006)</td>\n",
       "    </tr>\n",
       "    <tr>\n",
       "      <th>Unscaled RBF SVM</th>\n",
       "      <td>7.928 (+/- 0.213)</td>\n",
       "      <td>4.039 (+/- 0.235)</td>\n",
       "      <td>0.813 (+/- 0.006)</td>\n",
       "      <td>0.813 (+/- 0.005)</td>\n",
       "    </tr>\n",
       "  </tbody>\n",
       "</table>\n",
       "</div>"
      ],
      "text/plain": [
       "                                  fit_time         score_time  \\\n",
       "dummy                    0.044 (+/- 0.006)  0.019 (+/- 0.009)   \n",
       "decision tree            8.092 (+/- 0.116)  0.017 (+/- 0.002)   \n",
       "kNN                      0.050 (+/- 0.005)  0.299 (+/- 0.074)   \n",
       "RBF SVM                  6.685 (+/- 0.439)  3.293 (+/- 0.468)   \n",
       "RBF SVM, C=0.01          8.514 (+/- 0.785)  4.155 (+/- 0.167)   \n",
       "RBF SVM, C=0.1           6.792 (+/- 0.624)  3.065 (+/- 0.059)   \n",
       "RBF SVM, C=1.0           6.569 (+/- 0.898)  2.972 (+/- 0.161)   \n",
       "RBF SVM, C=10.0          8.281 (+/- 0.518)  2.851 (+/- 0.117)   \n",
       "RBF SVM, C=100.0        12.621 (+/- 0.401)  2.764 (+/- 0.067)   \n",
       "Unscaled decision tree   6.459 (+/- 0.416)  0.016 (+/- 0.001)   \n",
       "Unscaled kNN             0.047 (+/- 0.002)  0.193 (+/- 0.003)   \n",
       "Unscaled RBF SVM         7.928 (+/- 0.213)  4.039 (+/- 0.235)   \n",
       "\n",
       "                               test_score        train_score  \n",
       "dummy                   0.759 (+/- 0.000)  0.759 (+/- 0.000)  \n",
       "decision tree           0.813 (+/- 0.002)  0.986 (+/- 0.001)  \n",
       "kNN                     0.833 (+/- 0.008)  0.884 (+/- 0.002)  \n",
       "RBF SVM                 0.854 (+/- 0.004)  0.866 (+/- 0.001)  \n",
       "RBF SVM, C=0.01         0.813 (+/- 0.003)  0.814 (+/- 0.004)  \n",
       "RBF SVM, C=0.1          0.851 (+/- 0.009)  0.853 (+/- 0.002)  \n",
       "RBF SVM, C=1.0          0.854 (+/- 0.004)  0.866 (+/- 0.001)  \n",
       "RBF SVM, C=10.0         0.853 (+/- 0.004)  0.886 (+/- 0.001)  \n",
       "RBF SVM, C=100.0        0.840 (+/- 0.004)  0.909 (+/- 0.001)  \n",
       "Unscaled decision tree  0.811 (+/- 0.009)  0.873 (+/- 0.002)  \n",
       "Unscaled kNN            0.808 (+/- 0.006)  0.832 (+/- 0.006)  \n",
       "Unscaled RBF SVM        0.813 (+/- 0.006)  0.813 (+/- 0.005)  "
      ]
     },
     "execution_count": 116,
     "metadata": {},
     "output_type": "execute_result"
    }
   ],
   "source": [
    "param_grid = {\"C\": np.logspace(-2, 2, 5)}\n",
    "for i in param_grid[\"C\"]:\n",
    "    pipe = make_pipeline(preprocessor, SVC(C=i))\n",
    "    name = \"RBF SVM, C=\" + str(i)\n",
    "    results_dict[name] = mean_std_cross_val_scores(pipe, X_train, y_train, cv=5, return_train_score=True)\n",
    "pd.DataFrame(results_dict).T"
   ]
  },
  {
   "cell_type": "markdown",
   "metadata": {},
   "source": [
    "While the difference is negligible (within 0.001), the C value of 1 provides the highest test/cv score, and thus default value in sklearn is not only reasonable, but is the highest performing model."
   ]
  },
  {
   "cell_type": "markdown",
   "metadata": {},
   "source": []
  },
  {
   "cell_type": "markdown",
   "metadata": {},
   "source": [
    "<br><br><br><br>"
   ]
  },
  {
   "cell_type": "markdown",
   "metadata": {
    "slideshow": {
     "slide_type": "slide"
    },
    "tags": []
   },
   "source": [
    "## Exercise 5: Evaluating on the test set <a name=\"5\"></a>\n",
    "<hr>\n",
    "\n",
    "Now that we have a best performing model, it's time to assess our model on the set aside test set. In this exercise you'll examine whether the results you obtained using cross-validation on the train set are consistent with the results on the test set. "
   ]
  },
  {
   "cell_type": "markdown",
   "metadata": {
    "tags": []
   },
   "source": [
    "### 5.1 Scoring on the unseen test set \n",
    "rubric={points:10}\n",
    "\n",
    "**Your tasks:**\n",
    "\n",
    "1. Train the best performing model on the entire training set. \n",
    "2. Report the results of this model on `X_test`. \n",
    "3. Are the cross-validation results and test results consistent? "
   ]
  },
  {
   "cell_type": "code",
   "execution_count": 117,
   "metadata": {},
   "outputs": [
    {
     "name": "stdout",
     "output_type": "stream",
     "text": [
      "fit_time       35.181 (+/- 64.884)\n",
      "score_time       2.812 (+/- 0.123)\n",
      "test_score       0.854 (+/- 0.004)\n",
      "train_score      0.866 (+/- 0.001)\n",
      "dtype: object\n",
      "test_score: 0.8556599717462072\n"
     ]
    }
   ],
   "source": [
    "model = make_pipeline(preprocessor, SVC(C=1))\n",
    "model.fit(X_train, y_train)\n",
    "scores = mean_std_cross_val_scores(model, X_train, y_train, cv=5, return_train_score=True)\n",
    "test_score = model.score(X_test, y_test)\n",
    "print(scores)\n",
    "print(\"test_score: \" + str(test_score))"
   ]
  },
  {
   "cell_type": "markdown",
   "metadata": {},
   "source": [
    "3. The cross-validation results and test results are consistent, as the cv score estimated a score of 0.854, and the test score produced 0.855"
   ]
  },
  {
   "cell_type": "markdown",
   "metadata": {},
   "source": [
    "<br><br><br><br>"
   ]
  },
  {
   "cell_type": "markdown",
   "metadata": {},
   "source": [
    "## Submission instructions \n",
    "\n",
    "**PLEASE READ:** When you are ready to submit your assignment do the following:\n",
    "\n",
    "1. Run all cells in your notebook to make sure there are no errors by doing `Kernel -> Restart Kernel and Clear All Outputs` and then `Run -> Run All Cells`. \n",
    "2. Notebooks with cell execution numbers out of order or not starting from “1” will have marks deducted. Notebooks without the output displayed may not be graded at all (because we need to see the output in order to grade your work).\n",
    "3. Upload the assignment using Gradescope's drag and drop tool. Check out this [Gradescope Student Guide](https://lthub.ubc.ca/guides/gradescope-student-guide/) if you need help with Gradescope submission. "
   ]
  },
  {
   "cell_type": "markdown",
   "metadata": {},
   "source": [
    "Congratulations on finishing the homework! This was a tricky one but I hope you are feeling good after working on it. You are now ready to build a simple supervised machine learning pipeline on real-world datasets! Well done!"
   ]
  }
 ],
 "metadata": {
  "celltoolbar": "Create Assignment",
  "kernelspec": {
   "display_name": "Python [conda env:cpsc330]",
   "language": "python",
   "name": "conda-env-cpsc330-py"
  },
  "language_info": {
   "codemirror_mode": {
    "name": "ipython",
    "version": 3
   },
   "file_extension": ".py",
   "mimetype": "text/x-python",
   "name": "python",
   "nbconvert_exporter": "python",
   "pygments_lexer": "ipython3",
   "version": "3.10.4"
  }
 },
 "nbformat": 4,
 "nbformat_minor": 4
}
